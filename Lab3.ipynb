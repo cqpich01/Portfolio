{
 "cells": [
  {
   "cell_type": "markdown",
   "metadata": {
    "id": "lN1bE03duXEt"
   },
   "source": [
    "# CIS 443-01 - Analytics Programming\n",
    "## Lab 3\n",
    "__Grading ID__: C0000 (double click the cell in Jupyter to edit, find ID in Blackboard Gradebook)<br>\n",
    "__Due__: Monday, February 7 (by 11:59 PM)<br />\n",
    "__Worth__: 25 pts."
   ]
  },
  {
   "cell_type": "markdown",
   "metadata": {
    "id": "P2g2ldwsuXEx"
   },
   "source": [
    "### Directions\n",
    "Exercise 4.9, p. 152 (Temperature Conversion) Implement a `fahrenheit` function that returns the Fahrenheit equivalent of a Celsius temperature. Use the following formula:<br />\n",
    "F = (9 / 5) * C + 32<br />\n",
    "Use this function to print a chart showing the Fahrenheit equivalents of all Celsius temperatures in the range 0–100 degrees. Use one digit of precision for the results. Print the outputs in a neat tabular format.<br />\n",
    "__Note__: Feel free to change the function's name to something more verb-oriented, such as `convert_C_to_F`. The function should only return the calculated Fahrenheit temperature - it is not asked to print the value. The output table is printed in the application code by calling the function repeatedly from within a counter-controlled loop.\n"
   ]
  },
  {
   "cell_type": "code",
   "execution_count": 26,
   "metadata": {
    "id": "BT0x-iUNuXEy"
   },
   "outputs": [
    {
     "name": "stdout",
     "output_type": "stream",
     "text": [
      "Temperature Conversion Table\n",
      "\n",
      "Celcius     Fahrenheit\n",
      "_______     __________\n",
      "  0.0          32.0\n",
      "  1.0          33.8\n",
      "  2.0          35.6\n",
      "  3.0          37.4\n",
      "  4.0          39.2\n",
      "  5.0          41.0\n",
      "  6.0          42.8\n",
      "  7.0          44.6\n",
      "  8.0          46.4\n",
      "  9.0          48.2\n",
      " 10.0          50.0\n",
      " 11.0          51.8\n",
      " 12.0          53.6\n",
      " 13.0          55.4\n",
      " 14.0          57.2\n",
      " 15.0          59.0\n",
      " 16.0          60.8\n",
      " 17.0          62.6\n",
      " 18.0          64.4\n",
      " 19.0          66.2\n",
      " 20.0          68.0\n",
      " 21.0          69.8\n",
      " 22.0          71.6\n",
      " 23.0          73.4\n",
      " 24.0          75.2\n",
      " 25.0          77.0\n",
      " 26.0          78.8\n",
      " 27.0          80.6\n",
      " 28.0          82.4\n",
      " 29.0          84.2\n",
      " 30.0          86.0\n",
      " 31.0          87.8\n",
      " 32.0          89.6\n",
      " 33.0          91.4\n",
      " 34.0          93.2\n",
      " 35.0          95.0\n",
      " 36.0          96.8\n",
      " 37.0          98.6\n",
      " 38.0         100.4\n",
      " 39.0         102.2\n",
      " 40.0         104.0\n",
      " 41.0         105.8\n",
      " 42.0         107.6\n",
      " 43.0         109.4\n",
      " 44.0         111.2\n",
      " 45.0         113.0\n",
      " 46.0         114.8\n",
      " 47.0         116.6\n",
      " 48.0         118.4\n",
      " 49.0         120.2\n",
      " 50.0         122.0\n",
      " 51.0         123.8\n",
      " 52.0         125.6\n",
      " 53.0         127.4\n",
      " 54.0         129.2\n",
      " 55.0         131.0\n",
      " 56.0         132.8\n",
      " 57.0         134.6\n",
      " 58.0         136.4\n",
      " 59.0         138.2\n",
      " 60.0         140.0\n",
      " 61.0         141.8\n",
      " 62.0         143.6\n",
      " 63.0         145.4\n",
      " 64.0         147.2\n",
      " 65.0         149.0\n",
      " 66.0         150.8\n",
      " 67.0         152.6\n",
      " 68.0         154.4\n",
      " 69.0         156.2\n",
      " 70.0         158.0\n",
      " 71.0         159.8\n",
      " 72.0         161.6\n",
      " 73.0         163.4\n",
      " 74.0         165.2\n",
      " 75.0         167.0\n",
      " 76.0         168.8\n",
      " 77.0         170.6\n",
      " 78.0         172.4\n",
      " 79.0         174.2\n",
      " 80.0         176.0\n",
      " 81.0         177.8\n",
      " 82.0         179.6\n",
      " 83.0         181.4\n",
      " 84.0         183.2\n",
      " 85.0         185.0\n",
      " 86.0         186.8\n",
      " 87.0         188.6\n",
      " 88.0         190.4\n",
      " 89.0         192.2\n",
      " 90.0         194.0\n",
      " 91.0         195.8\n",
      " 92.0         197.6\n",
      " 93.0         199.4\n",
      " 94.0         201.2\n",
      " 95.0         203.0\n",
      " 96.0         204.8\n",
      " 97.0         206.6\n",
      " 98.0         208.4\n",
      " 99.0         210.2\n",
      "100.0         212.0\n"
     ]
    }
   ],
   "source": [
    "#C4881 \n",
    "print('Temperature Conversion Table\\n')\n",
    "\n",
    "print('Celcius     Fahrenheit')\n",
    "print('_______     __________')\n",
    "\n",
    "C = 0 \n",
    "while C <= 100:\n",
    "    F = 9 * C / 5 + 32 \n",
    "    print(f'{C:5.1f} {F:13.1f}')\n",
    "    C += 1"
   ]
  },
  {
   "cell_type": "markdown",
   "metadata": {
    "id": "q8s79p9EuXEz"
   },
   "source": [
    "Be sure to save and exit your Jupyter Notebook and Shutdown Jupyter Lab (from the __File__ menu) if using Ananconda before you submit your notebook on Blackboard for grading. If using Colab, be sure to Download (from the __File__ menu) back to your local file system before submitting to Blackboard.\n",
    "Make sure you don't submit the empty starting notebook by accident."
   ]
  }
 ],
 "metadata": {
  "colab": {
   "collapsed_sections": [],
   "name": "Lab3.ipynb",
   "provenance": []
  },
  "kernelspec": {
   "display_name": "Python 3 (ipykernel)",
   "language": "python",
   "name": "python3"
  },
  "language_info": {
   "codemirror_mode": {
    "name": "ipython",
    "version": 3
   },
   "file_extension": ".py",
   "mimetype": "text/x-python",
   "name": "python",
   "nbconvert_exporter": "python",
   "pygments_lexer": "ipython3",
   "version": "3.9.7"
  }
 },
 "nbformat": 4,
 "nbformat_minor": 4
}
