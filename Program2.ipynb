{
 "cells": [
  {
   "cell_type": "code",
   "execution_count": 67,
   "id": "1941ddd3-5766-4102-93c7-65bec5eed09a",
   "metadata": {},
   "outputs": [
    {
     "name": "stdin",
     "output_type": "stream",
     "text": [
      "Number of students:  2\n",
      "How many tests for each student:  2\n",
      "Enter test score:  100\n",
      "Enter test score:  100\n",
      "Enter test score:  90\n",
      "Enter test score:  100\n"
     ]
    },
    {
     "name": "stdout",
     "output_type": "stream",
     "text": [
      "\n",
      "AVERAGE {100.0}\n",
      "\n",
      "AVERAGE {95.0}\n",
      "\n",
      "LETTER      COUNT\n",
      "______      _____\n",
      "A           2\n",
      "B           0\n",
      "C           0\n",
      "D           0\n",
      "F           0\n"
     ]
    },
    {
     "data": {
      "image/png": "[encoded data removed]",
      "text/plain": [
       "<Figure size 432x288 with 1 Axes>"
      ]
     },
     "metadata": {},
     "output_type": "display_data"
    }
   ],
   "source": [
    "#Program 2\n",
    "#C4881 \n",
    "#CIS 443\n",
    "\n",
    "import matplotlib.pyplot as plt \n",
    "import seaborn as sns \n",
    "\n",
    "def input_test_scores():\n",
    "    score_of_test = []\n",
    "    num_of_students = int(input(\"Number of students: \"))\n",
    "    num_of_tests = int(input(\"How many tests for each student: \"))\n",
    "    for i in range(num_of_students):\n",
    "        row = []\n",
    "        for k in range(num_of_tests):\n",
    "            test = int(input(\"Enter test score: \"))\n",
    "            row.append(test)\n",
    "        score_of_test.append(row)\n",
    "        \n",
    "    return score_of_test\n",
    "    \n",
    "def letter_grades(calc_letter):\n",
    "    grade = []\n",
    "    if calc_letter >= 90:\n",
    "        grade = 'A'\n",
    "    elif calc_letter >= 80:\n",
    "        grade = 'B'\n",
    "    elif calc_letter >= 70:\n",
    "        grade = 'C'\n",
    "    elif calc_letter >= 60:\n",
    "        grade = 'D'\n",
    "    elif calc_letter < 60:\n",
    "        grade = 'F'\n",
    "        \n",
    "    return grade \n",
    "\n",
    "def summarize_test_scores(score_of_test):\n",
    "    grades_dict = {'A': 0, 'B': 0, 'C': 0, 'D':0, 'F':0} \n",
    "    for row in score_of_test:\n",
    "        avg = sum(row)/len(row)\n",
    "        print(\"\\nAVERAGE\", {avg})\n",
    "        letter = letter_grades(avg)\n",
    "        grades_dict[letter] += 1 \n",
    "\n",
    "    print(f'\\n{\"LETTER\":<12}COUNT')\n",
    "    print('______      _____')\n",
    "\n",
    "#bar chart        \n",
    "    for letter in sorted (grades_dict.keys()):\n",
    "        print(f'{letter:<12}{grades_dict[letter]}')\n",
    "    \n",
    "    letter = list(grades_dict.keys())\n",
    "    count = list(grades_dict.values())\n",
    "\n",
    "    values = letter\n",
    "    frequencies = count \n",
    "    title = (\"Student's Letter Grades\")\n",
    "    sns.set_style('whitegrid')\n",
    "    axes = sns.barplot(x=values, y=frequencies, palette='bright')\n",
    "    axes.set_title(title)\n",
    "    axes.set(xlabel='Letter Grade', ylabel='Frequency of Grade')  \n",
    "    axes.set_ylim(top=max(frequencies) * 1.10)\n",
    "\n",
    "\n",
    "    for bar, frequency in zip(axes.patches, frequencies):\n",
    "        text_x = bar.get_x() + bar.get_width() / 2.0  \n",
    "        text_y = bar.get_height() \n",
    "        text = f'{frequency:,}'\n",
    "        axes.text(text_x, text_y, text, \n",
    "                fontsize=11, ha='center', va='bottom')\n",
    "    \n",
    "    #letter = list(grades_dict.keys())\n",
    "    #count = list(grades_dict.values())\n",
    "\n",
    "    #plt.bar(letter, count)\n",
    "    #plt.title(\"Student's Letter Grades\", fontsize=16)\n",
    "    #plt.xlabel(\"Letter Grade\", fontsize=14)\n",
    "    #plt.ylabel(\"Frequency of Grade\", fontsize=14)\n",
    "    #plt.show()    \n",
    "    \n",
    "#Application Logic \n",
    "score_of_test = input_test_scores()\n",
    "summarize_test_scores(score_of_test)\n"
   ]
  },
  {
   "cell_type": "code",
   "execution_count": null,
   "id": "ebecdb3d-3827-4f86-a707-5a25eccb6881",
   "metadata": {},
   "outputs": [],
   "source": []
  }
 ],
 "metadata": {
  "kernelspec": {
   "display_name": "Python 3 (ipykernel)",
   "language": "python",
   "name": "python3"
  },
  "language_info": {
   "codemirror_mode": {
    "name": "ipython",
    "version": 3
   },
   "file_extension": ".py",
   "mimetype": "text/x-python",
   "name": "python",
   "nbconvert_exporter": "python",
   "pygments_lexer": "ipython3",
   "version": "3.9.7"
  }
 },
 "nbformat": 4,
 "nbformat_minor": 5
}
