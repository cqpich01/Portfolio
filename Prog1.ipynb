{
 "cells": [
  {
   "cell_type": "markdown",
   "metadata": {
    "id": "GacMba-5t1SX"
   },
   "source": [
    "# CIS 443-01 - Analytics Programming\n",
    "## Program 1\n",
    "__Grading ID__: C0000(double click the cell in Jupyter to edit)<br>\n",
    "__Due__: Monday, February 7 (by 11:59 PM)<br />\n",
    "__Worth__: 50 pts.<br />\n",
    "__Purpose__: Use repetition control structure and accumulator pattern to estimate value of π."
   ]
  },
  {
   "cell_type": "markdown",
   "metadata": {
    "id": "WjernZjFt1Sa"
   },
   "source": [
    "### Directions\n",
    "In the code cell below, write Python code to accomplish the following using what you've learned through Chapter 3. \n",
    "\n",
    "This assignment is inspired by Exercise 3.14 from p. 114 of your text that computes an approximate value of π from an infinite series. Instead of the _Leibniz_ series described in your text, we will use the _Nilakantha_ series (named after an Indian mathematician who lived in the years 1444–1544) shown below. \n",
    "\n",
    "![Prog1-pi-series.png](data:image/png;base64,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)\n",
    "\n",
    "#### Part 1\n",
    "\n",
    "Write your solution to allow the user to enter a value for the number of terms that they want the code to run for in the approximation calculation. For consistency, let's agree to start counting terms from the first fraction in the series (Term 1 has denominator 2x3x4, Term 2 has denominator 4x5x6, etc.). Output the estimate after each term is added in a tabular format, using f-strings, field width, and right-alignment. Print the term number in a field with width of 8 and the associated estimate of π in a field with width of 10 and 6 digits after the decimal. (__45 pts.__)\n",
    "\n",
    "I suggest that you develop your solution in steps. You must alternate between addition and subtraction on each term (or, use addition with a coefficient that alternates from +4 to -4 on each term), so you might start with that. The denominator product's first number is going up by 2s each term, so 2, 4, 6, etc., so maybe get that working next. The other numbers in the denominator product are +1 and +2 from the first number. Once you have all the pieces working, then you put it together in a summation (that starts from 3 instead of 0 for this series).\n",
    "\n",
    "If you wish to incorporate a little of Chapter 4, put the code for the estimation in a method named _pi_estimator_ that accepts number of terms as a parameter.\n",
    "\n",
    "For more information about π, check out this <a href=\"https://www.mathsisfun.com/numbers/pi.html\" target=\"_blank\">Math is Fun article</a> or <a href=\"http://www.pi314.net/eng/index.php\" target=\"_blank\">The World of Pi site</a>."
   ]
  },
  {
   "cell_type": "code",
   "execution_count": 8,
   "metadata": {},
   "outputs": [
    {
     "name": "stdin",
     "output_type": "stream",
     "text": [
      "Enter the number of terms to use in the approximation of Pi:  5\n"
     ]
    },
    {
     "name": "stdout",
     "output_type": "stream",
     "text": [
      "\n",
      "Term #   Approximation\n",
      "________  _____________\n",
      "       1   3.166667\n",
      "       2   3.133333\n",
      "       3   3.145238\n",
      "       4   3.139683\n",
      "       5   3.142713\n",
      "Final approx after 5 terms = 3.142713\n"
     ]
    }
   ],
   "source": [
    "#C4881 \n",
    "\n",
    "approx = 3 #variable for approximation starting at 3\n",
    "coef = 1 #coeficient because first fraction starts positive \n",
    "numerator = 4 #numerator stays consistent as the number 4 \n",
    "denom_counter = 2 #first number in denominator starts at 2 \n",
    "\n",
    "n = int(input('Enter the number of terms to use in the approximation of Pi: ')) #number of terms entered \n",
    "print('\\nTerm #   Approximation') #formatting \n",
    "print('________  _____________')\n",
    "\n",
    "\n",
    "for i in range(1, n+1): \n",
    "    #rest of math \n",
    "    approx += (coef *numerator) / (denom_counter * (denom_counter + 1) * (denom_counter + 2))\n",
    "    coef *= -1\n",
    "    denom_counter += 2 \n",
    "    print(f'{i:8.0f} {approx:10.6f}')\n",
    "\n",
    "print(f'Final approx after {n} terms = {approx:.6f}') \n",
    "\n"
   ]
  },
  {
   "cell_type": "markdown",
   "metadata": {
    "id": "yk3sJ9Znt1Sn"
   },
   "source": [
    "#### Part 2\n",
    "**Answer the following**:\n",
    "\n",
    "How many terms of this series do you have to use before you first get 3.14?<br />\n",
    "4<br />\n",
    "3.141?<br />\n",
    "6<br />\n",
    "3.1415?<br />\n",
    "12<br />\n",
    "3.14159?<br />\n",
    "32<br />\n",
    "Double click the cell in Jupyter to edit (__5 pts.__)\n",
    "\n",
    "__Note__: To answer the questions above about how many terms are needed to reach a specific approximation, you will probably want to use a `while` loop to continue the calculation term by term until the specified approximation is reached. You'll either want to truncate the estimate or round the estimate when deciding if it matches the specified approximation."
   ]
  },
  {
   "cell_type": "code",
   "execution_count": 7,
   "metadata": {
    "id": "LCycnRbEKM6I"
   },
   "outputs": [
    {
     "name": "stdout",
     "output_type": "stream",
     "text": [
      "       1   3.166667\n",
      "       2   3.133333\n",
      "       3   3.145238\n",
      "       4   3.139683\n",
      "       5   3.142713\n",
      "       6   3.140881\n",
      "       7   3.142072\n",
      "       8   3.141255\n",
      "       9   3.141840\n",
      "      10   3.141407\n",
      "      11   3.141736\n",
      "      12   3.141480\n",
      "      13   3.141683\n",
      "      14   3.141519\n",
      "      15   3.141653\n",
      "      16   3.141542\n",
      "      17   3.141635\n",
      "      18   3.141556\n",
      "      19   3.141624\n",
      "      20   3.141566\n",
      "      21   3.141616\n",
      "      22   3.141572\n",
      "      23   3.141611\n",
      "      24   3.141577\n",
      "      25   3.141607\n",
      "      26   3.141580\n",
      "      27   3.141604\n",
      "      28   3.141582\n",
      "      29   3.141602\n",
      "      30   3.141584\n",
      "      31   3.141600\n",
      "      32   3.141586\n",
      "Final approx after 32 terms = 3.141586\n"
     ]
    }
   ],
   "source": [
    "#C4881 \n",
    "\n",
    "approx = 3 #variable for approximation starting at 3\n",
    "coef = 1 #coeficient because first fraction starts positive \n",
    "numerator = 4 #numerator stays consistent as the number 4 \n",
    "denom_counter = 2 #first number in denominator starts at 2 \n",
    "\n",
    "target_Pi = 3.14159\n",
    "digits = 5\n",
    "i = 0\n",
    "\n",
    "\n",
    "while round(approx, digits) != target_Pi: \n",
    "    i += 1 \n",
    "    approx += (coef *numerator) / (denom_counter * (denom_counter + 1) * (denom_counter + 2))\n",
    "    coef *= -1\n",
    "    denom_counter += 2 \n",
    "    print(f'{i:8.0f} {approx:10.6f}')\n",
    "\n",
    "print(f'Final approx after {i} terms = {approx:.6f}')\n",
    "\n"
   ]
  },
  {
   "cell_type": "markdown",
   "metadata": {
    "id": "bexgWeCMt1Sn"
   },
   "source": [
    "Be sure to save and exit your Jupyter Notebook and Shutdown Jupyter Lab (from the __File__ menu) before you submit your notebook on Blackboard for grading."
   ]
  }
 ],
 "metadata": {
  "colab": {
   "collapsed_sections": [],
   "name": "Prog1.ipynb",
   "provenance": []
  },
  "kernelspec": {
   "display_name": "Python 3 (ipykernel)",
   "language": "python",
   "name": "python3"
  },
  "language_info": {
   "codemirror_mode": {
    "name": "ipython",
    "version": 3
   },
   "file_extension": ".py",
   "mimetype": "text/x-python",
   "name": "python",
   "nbconvert_exporter": "python",
   "pygments_lexer": "ipython3",
   "version": "3.9.7"
  }
 },
 "nbformat": 4,
 "nbformat_minor": 4
}
