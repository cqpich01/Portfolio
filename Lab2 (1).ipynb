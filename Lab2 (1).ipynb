{
 "cells": [
  {
   "cell_type": "markdown",
   "metadata": {},
   "source": [
    "# CIS 443-01 - Analytics Programming\n",
    "## Lab 2\n",
    "__Grading ID__: C0000 (double click the cell in Jupyter to edit, find ID in Blackboard Gradebook)<br>\n",
    "__Due__: Monday, January 31 (by 11:59 PM)<br />\n",
    "__Worth__: 25 pts."
   ]
  },
  {
   "cell_type": "markdown",
   "metadata": {},
   "source": [
    "### Directions\n",
    "Exercise 3.11, p. 113 (Miles Per Gallon) Drivers are concerned with the mileage obtained by their automobiles. One driver has kept track of several tankfuls of gasoline by recording miles driven and gallons used for each tankful. Develop a sentinel-controlled-repetition script that prompts the user to input the miles driven and gallons used for each tankful. The script should calculate and display the miles per gallon obtained for each tankful. After processing all input information, the script should calculate and display the combined miles per gallon obtained for all tankfuls (that is, total miles driven divided by total gallons used). Sample output appears below. (25 pts.)<br>\n",
    "<div class=\"alert alert-block alert-info\">\n",
    "Enter the gallons used (-1 to end): 12.8<br>\n",
    "Enter the miles driven: 287<br>\n",
    "The miles/gallon for this tank was 22.421875<br>\n",
    "Enter the gallons used (-1 to end): 10.3<br>\n",
    "Enter the miles driven: 200<br>\n",
    "The miles/gallon for this tank was 19.417475<br>\n",
    "Enter the gallons used (-1 to end): 5<br>\n",
    "Enter the miles driven: 120<br>\n",
    "The miles/gallon for this tank was 24.000000<br>\n",
    "Enter the gallons used (-1 to end): -1<br>\n",
    "The overall average miles/gallon was 21.601423\n",
    "</div>"
   ]
  },
  {
   "cell_type": "code",
   "execution_count": null,
   "metadata": {},
   "outputs": [],
   "source": [
    "total_gallons = 0 #sum of gallons\n",
    "total_miles = 0 #sum of miles\n",
    "\n",
    "#processing phase\n",
    "gallons = float(input('Enter the gallons used (-1 to end): '))\n",
    "\n",
    "while gallons != -1:\n",
    "    total_gallons += gallons\n",
    "    miles = float(input('Enter the miles driven: '))\n",
    "    total_miles += miles\n",
    "    output = miles / gallons\n",
    "    print(f'The miles/gallon for this tank was {output:f}')\n",
    "    gallons = float(input('Enter the gallons used (-1 to end): '))\n",
    "    \n",
    "#termination phase     \n",
    "if gallons != 0:\n",
    "    final_output = total_miles / total_gallons\n",
    "    print(f'The overall average miles/gallon was {final_output:f}')"
   ]
  },
  {
   "cell_type": "markdown",
   "metadata": {},
   "source": [
    "Be sure to save and exit your Jupyter Notebook and Shutdown Jupyter Lab (from the __File__ menu) if using Ananconda before you submit your notebook on Blackboard for grading. If using Colab, be sure to Download (from the __File__ menu) back to your local file system before submitting to Blackboard.\n",
    "Make sure you don't submit the empty starting notebook by accident."
   ]
  }
 ],
 "metadata": {
  "kernelspec": {
   "display_name": "Python 3 (ipykernel)",
   "language": "python",
   "name": "python3"
  },
  "language_info": {
   "codemirror_mode": {
    "name": "ipython",
    "version": 3
   },
   "file_extension": ".py",
   "mimetype": "text/x-python",
   "name": "python",
   "nbconvert_exporter": "python",
   "pygments_lexer": "ipython3",
   "version": "3.9.7"
  }
 },
 "nbformat": 4,
 "nbformat_minor": 4
}
